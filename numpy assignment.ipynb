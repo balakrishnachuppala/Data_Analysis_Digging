{
 "cells": [
  {
   "cell_type": "markdown",
   "metadata": {},
   "source": [
    "Autohr: Balakrishna Chuppala"
   ]
  },
  {
   "cell_type": "markdown",
   "metadata": {},
   "source": [
    "1.Write a function so that the columns of the output matrix are powers of the input\n",
    "vector.\n",
    "The order of the powers is determined by the increasing boolean argument. Specifically, when\n",
    "increasing is False, the i-th output column is the input vector raised element-wise to the power\n",
    "of N - i - 1.\n",
    "HINT: Such a matrix with a geometric progression in each row is named for Alexandre-\n",
    "Theophile Vandermonde."
   ]
  },
  {
   "cell_type": "code",
   "execution_count": 34,
   "metadata": {},
   "outputs": [
    {
     "name": "stdout",
     "output_type": "stream",
     "text": [
      "Enter # columns in output: 5\n",
      "OutPut: \n",
      " [[ 16   8   4   2   1]\n",
      " [ 81  27   9   3   1]\n",
      " [256  64  16   4   1]\n",
      " [625 125  25   5   1]]\n"
     ]
    }
   ],
   "source": [
    "def Vandermonde(M,N):\n",
    "    return np.column_stack(tuple(M**(N-i-1) for i in range(N)))\n",
    "\n",
    "input_vector=np.array([2, 3, 4,5])\n",
    "no_of_columns=int(input('Enter # columns in output: '))\n",
    "\n",
    "print('OutPut: \\n',Vandermonde(input_vector,no_of_columns))\n"
   ]
  },
  {
   "cell_type": "markdown",
   "metadata": {},
   "source": [
    "2. Write a function to find moving average in an array over a window:\n",
    "Test it over [3, 5, 7, 2, 8, 10, 11, 65, 72, 81, 99, 100, 150] and window of 3."
   ]
  },
  {
   "cell_type": "code",
   "execution_count": 79,
   "metadata": {},
   "outputs": [],
   "source": [
    "data=np.array([3, 5, 7, 2, 8, 10, 11, 65, 72, 81, 99, 100, 150])"
   ]
  },
  {
   "cell_type": "code",
   "execution_count": 80,
   "metadata": {},
   "outputs": [
    {
     "data": {
      "text/plain": [
       "array([  3,   5,   7,   2,   8,  10,  11,  65,  72,  81,  99, 100, 150])"
      ]
     },
     "execution_count": 80,
     "metadata": {},
     "output_type": "execute_result"
    }
   ],
   "source": [
    "data"
   ]
  },
  {
   "cell_type": "code",
   "execution_count": 82,
   "metadata": {},
   "outputs": [
    {
     "name": "stdout",
     "output_type": "stream",
     "text": [
      "Enter Window size for moving avg :3\n"
     ]
    }
   ],
   "source": [
    "window_size=int(input('Enter Window size for moving avg :'))"
   ]
  },
  {
   "cell_type": "code",
   "execution_count": 86,
   "metadata": {},
   "outputs": [
    {
     "name": "stdout",
     "output_type": "stream",
     "text": [
      "Moving avg for the data: \n",
      "  [[  5.        ]\n",
      " [  4.66666667]\n",
      " [  5.66666667]\n",
      " [  6.66666667]\n",
      " [  9.66666667]\n",
      " [ 28.66666667]\n",
      " [ 49.33333333]\n",
      " [ 72.66666667]\n",
      " [ 84.        ]\n",
      " [ 93.33333333]\n",
      " [116.33333333]]\n"
     ]
    }
   ],
   "source": [
    "def Moving_average(x,k):\n",
    "    Global_MA=[]\n",
    "    for i in range(0,len(x)-k+1):\n",
    "        reset_list=[]\n",
    "#        for j in range(k):\n",
    "        reset_list.append(np.average(x[i:k+i]))\n",
    "        Global_MA.append(np.average(reset_list))\n",
    "    return Global_MA\n",
    "    \n",
    "    \n",
    "print(\"Moving avg for the data: \\n \", np.row_stack(Moving_average(data,window_size)))"
   ]
  },
  {
   "cell_type": "code",
   "execution_count": null,
   "metadata": {},
   "outputs": [],
   "source": []
  }
 ],
 "metadata": {
  "kernelspec": {
   "display_name": "Python 3",
   "language": "python",
   "name": "python3"
  },
  "language_info": {
   "codemirror_mode": {
    "name": "ipython",
    "version": 3
   },
   "file_extension": ".py",
   "mimetype": "text/x-python",
   "name": "python",
   "nbconvert_exporter": "python",
   "pygments_lexer": "ipython3",
   "version": "3.7.6"
  }
 },
 "nbformat": 4,
 "nbformat_minor": 4
}
