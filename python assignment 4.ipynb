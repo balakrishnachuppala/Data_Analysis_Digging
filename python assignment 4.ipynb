{
 "cells": [
  {
   "cell_type": "raw",
   "metadata": {},
   "source": [
    "Author: Balakrishna Chuppala\n",
    "\n",
    "Program(with class concepts) to find the area of the triangle using the below\n",
    "formula.\n",
    "area = (s*(s-a)*(s-b)*(s-c)) ** 0.5"
   ]
  },
  {
   "cell_type": "code",
   "execution_count": 173,
   "metadata": {},
   "outputs": [],
   "source": [
    "class Parent:\n",
    "    def __init__(self):\n",
    "        self.__a \n",
    "        self.__b \n",
    "        self.__c \n",
    "    def Area_inputs(self):\n",
    "        self.__a =  input('Enter A Value:')\n",
    "        self.__b =  input('Enter B Value:')\n",
    "        self.__c =  input('Enter C Value:')\n",
    "    def retrun_a(self):\n",
    "        return int(self.__a)\n",
    "    def retrun_b(self):\n",
    "        return int(self.__b)\n",
    "    def retrun_c(self):\n",
    "        return int(self.__c)"
   ]
  },
  {
   "cell_type": "code",
   "execution_count": 202,
   "metadata": {},
   "outputs": [],
   "source": [
    "class Child(Parent):\n",
    "    def __init__(self):\n",
    "        super(Child, self).Area_inputs()\n",
    "        self.s=(super(Child,self).retrun_a()+super(Child,self).retrun_b()+super(Child,self).retrun_c())/2\n",
    "    def Area_Calculate(self):\n",
    "        self.Area=(self.s*(self.s-super(Child,self).retrun_a())*(self.s-super(Child,self).retrun_b())*(self.s-super(Child,self).retrun_c()))**0.5\n",
    "        print(\"Area is : \",self.Area)"
   ]
  },
  {
   "cell_type": "code",
   "execution_count": 203,
   "metadata": {},
   "outputs": [],
   "source": [
    "p1 = Parent"
   ]
  },
  {
   "cell_type": "code",
   "execution_count": 204,
   "metadata": {},
   "outputs": [
    {
     "name": "stdout",
     "output_type": "stream",
     "text": [
      "Enter A Value:2\n",
      "Enter B Value:4\n",
      "Enter C Value:5\n"
     ]
    }
   ],
   "source": [
    "c1=Child()"
   ]
  },
  {
   "cell_type": "code",
   "execution_count": 205,
   "metadata": {},
   "outputs": [
    {
     "name": "stdout",
     "output_type": "stream",
     "text": [
      "{'_Parent__a': '2', '_Parent__b': '4', '_Parent__c': '5', 's': 5.5}\n"
     ]
    }
   ],
   "source": [
    "print(c1.__dict__)"
   ]
  },
  {
   "cell_type": "code",
   "execution_count": 206,
   "metadata": {},
   "outputs": [
    {
     "name": "stdout",
     "output_type": "stream",
     "text": [
      "Area is :  3.799671038392666\n",
      "None\n"
     ]
    }
   ],
   "source": [
    "print(c1.Area_Calculate())"
   ]
  },
  {
   "cell_type": "markdown",
   "metadata": {},
   "source": [
    "1.2  function filter_long_words() that takes a list of words and an integer n and returns\n",
    "the list of words that are longer than n."
   ]
  },
  {
   "cell_type": "code",
   "execution_count": 209,
   "metadata": {},
   "outputs": [
    {
     "name": "stdout",
     "output_type": "stream",
     "text": [
      "pring Longer Words:  ['Incremental changes', 'California']\n"
     ]
    }
   ],
   "source": [
    "def filter_long_words(l,n):\n",
    "    lw=[]\n",
    "    for i in l:\n",
    "        if len(i)>n:\n",
    "            lw.append(i)\n",
    "    return lw\n",
    "L=['Python','widgets','Documents','Incremental changes','it','California','catch']\n",
    "print(\"pring Longer Words: \",filter_long_words(L,9))"
   ]
  },
  {
   "cell_type": "markdown",
   "metadata": {},
   "source": [
    "2.1 Write a Python program using function concept that maps list of words into a list of integers\n",
    "representing the lengths of the corresponding words."
   ]
  },
  {
   "cell_type": "code",
   "execution_count": 213,
   "metadata": {},
   "outputs": [
    {
     "name": "stdout",
     "output_type": "stream",
     "text": [
      "Find the word vs lenght sets:  [('one', 3), ('King', 4), ('montessorie', 11)]\n"
     ]
    }
   ],
   "source": [
    "def length_per_word(L):\n",
    "    wl=[]\n",
    "    for i in L:\n",
    "        wl.append((i,len(i)))\n",
    "    return wl\n",
    "\n",
    "data=['one','King','montessorie']\n",
    "print('Find the word vs lenght sets: ',length_per_word(data))"
   ]
  },
  {
   "cell_type": "markdown",
   "metadata": {},
   "source": [
    "2.2 Write a Python function which takes a character (i.e. a string of length 1) and returns True if\n",
    "it is a vowel, False otherwise."
   ]
  },
  {
   "cell_type": "code",
   "execution_count": 1,
   "metadata": {},
   "outputs": [],
   "source": [
    "Vowels=['a','e','i','o','u','y']\n",
    "def find_vowels(letter):\n",
    "    if str(letter).lower() in Vowels:\n",
    "        return True\n",
    "    else:\n",
    "        return False"
   ]
  },
  {
   "cell_type": "code",
   "execution_count": 2,
   "metadata": {},
   "outputs": [
    {
     "name": "stdout",
     "output_type": "stream",
     "text": [
      "Enter any alphabet to check: E\n",
      "Entered letter E is Vowel  \n"
     ]
    }
   ],
   "source": [
    "char=input('Enter any alphabet to check: ')\n",
    "if find_vowels(char)==True:\n",
    "    print('Entered letter {} is {}  '.format(char,'Vowel'))\n",
    "else:\n",
    "    print('Entered letter {} is {}  '.format(char,'Not Vowel')) "
   ]
  },
  {
   "cell_type": "code",
   "execution_count": null,
   "metadata": {},
   "outputs": [],
   "source": []
  }
 ],
 "metadata": {
  "kernelspec": {
   "display_name": "Python 3",
   "language": "python",
   "name": "python3"
  },
  "language_info": {
   "codemirror_mode": {
    "name": "ipython",
    "version": 3
   },
   "file_extension": ".py",
   "mimetype": "text/x-python",
   "name": "python",
   "nbconvert_exporter": "python",
   "pygments_lexer": "ipython3",
   "version": "3.7.6"
  }
 },
 "nbformat": 4,
 "nbformat_minor": 4
}
