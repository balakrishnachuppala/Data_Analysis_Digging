{
 "cells": [
  {
   "cell_type": "code",
   "execution_count": 1,
   "metadata": {},
   "outputs": [],
   "source": [
    "# create a dictionary"
   ]
  },
  {
   "cell_type": "code",
   "execution_count": 2,
   "metadata": {},
   "outputs": [],
   "source": [
    "dict={'name':'Bala','hight':183,'loc':'Hyd'}"
   ]
  },
  {
   "cell_type": "code",
   "execution_count": 7,
   "metadata": {},
   "outputs": [
    {
     "name": "stdout",
     "output_type": "stream",
     "text": [
      "['name', 'hight', 'loc']\n"
     ]
    }
   ],
   "source": [
    "print(list(dict.keys()))"
   ]
  },
  {
   "cell_type": "code",
   "execution_count": 8,
   "metadata": {},
   "outputs": [],
   "source": [
    "# write a program to sort a dictionary by key."
   ]
  },
  {
   "cell_type": "code",
   "execution_count": 17,
   "metadata": {},
   "outputs": [
    {
     "name": "stdout",
     "output_type": "stream",
     "text": [
      "hight: 183\n",
      "loc: Hyd\n",
      "name: Bala\n"
     ]
    }
   ],
   "source": [
    "for k in sorted(dict):\n",
    "    print('%s: %s'  %(k, dict[k]))"
   ]
  },
  {
   "cell_type": "code",
   "execution_count": 19,
   "metadata": {},
   "outputs": [],
   "source": [
    "#Write a Python program to get a dictionary from an object's fields."
   ]
  },
  {
   "cell_type": "code",
   "execution_count": 25,
   "metadata": {},
   "outputs": [],
   "source": [
    "class dictObj():\n",
    "    def __init__(self):\n",
    "        self.x='one'\n",
    "        self.y='two'\n",
    "    def do_nothing(self):\n",
    "        pass    "
   ]
  },
  {
   "cell_type": "code",
   "execution_count": 27,
   "metadata": {},
   "outputs": [],
   "source": [
    "obj1=dictObj()"
   ]
  },
  {
   "cell_type": "code",
   "execution_count": 35,
   "metadata": {},
   "outputs": [
    {
     "name": "stdout",
     "output_type": "stream",
     "text": [
      "{'x': 'one', 'y': 'two'}\n"
     ]
    }
   ],
   "source": [
    "print(obj1.__dict__)"
   ]
  },
  {
   "cell_type": "code",
   "execution_count": 36,
   "metadata": {},
   "outputs": [],
   "source": [
    "# write a program to remove duplicates from Dictionary."
   ]
  },
  {
   "cell_type": "code",
   "execution_count": 38,
   "metadata": {},
   "outputs": [],
   "source": [
    "student_data = {'id1':\n",
    "    {'name': ['Sara'],\n",
    "    'class': ['V'],\n",
    "    'subject_integration': ['english, math, science']\n",
    "    },\n",
    "    'id2':\n",
    "    {'name': ['David'],\n",
    "    'class': ['V'],\n",
    "    'subject_integration': ['english, math, science']\n",
    "    },\n",
    "    'id3':\n",
    "    {'name': ['Sara'],\n",
    "    'class': ['V'],\n",
    "    'subject_integration': ['english, math, science']\n",
    "    },\n",
    "    'id4':\n",
    "    {'name': ['Surya'],\n",
    "    'class': ['V'],\n",
    "    'subject_integration': ['english, math, science']\n",
    "    },\n",
    "}"
   ]
  },
  {
   "cell_type": "code",
   "execution_count": 41,
   "metadata": {},
   "outputs": [
    {
     "name": "stdout",
     "output_type": "stream",
     "text": [
      "id1   {'name': ['Sara'], 'class': ['V'], 'subject_integration': ['english, math, science']}\n",
      "id2   {'name': ['David'], 'class': ['V'], 'subject_integration': ['english, math, science']}\n",
      "id3   {'name': ['Sara'], 'class': ['V'], 'subject_integration': ['english, math, science']}\n",
      "id4   {'name': ['Surya'], 'class': ['V'], 'subject_integration': ['english, math, science']}\n"
     ]
    }
   ],
   "source": [
    "for k,v in student_data.items():\n",
    "    print(k,' ',v)"
   ]
  },
  {
   "cell_type": "code",
   "execution_count": 44,
   "metadata": {},
   "outputs": [],
   "source": [
    "result={}\n",
    "for k,v in student_data.items():\n",
    "    if v not in result.values():\n",
    "        result[k]=v"
   ]
  },
  {
   "cell_type": "code",
   "execution_count": 46,
   "metadata": {},
   "outputs": [
    {
     "name": "stdout",
     "output_type": "stream",
     "text": [
      "id1   {'name': ['Sara'], 'class': ['V'], 'subject_integration': ['english, math, science']}\n",
      "id2   {'name': ['David'], 'class': ['V'], 'subject_integration': ['english, math, science']}\n",
      "id4   {'name': ['Surya'], 'class': ['V'], 'subject_integration': ['english, math, science']}\n"
     ]
    }
   ],
   "source": [
    "for key,value in result.items():\n",
    "    print(key,' ',value)"
   ]
  },
  {
   "cell_type": "code",
   "execution_count": 47,
   "metadata": {},
   "outputs": [],
   "source": [
    "# write a program to combine two dictionary adding values for common keys"
   ]
  },
  {
   "cell_type": "code",
   "execution_count": 50,
   "metadata": {},
   "outputs": [],
   "source": [
    "d1={'a':1,'b':3}\n",
    "d2={'c':6,'a':2}"
   ]
  },
  {
   "cell_type": "code",
   "execution_count": 53,
   "metadata": {},
   "outputs": [
    {
     "name": "stdout",
     "output_type": "stream",
     "text": [
      "Counter({'c': 6, 'a': 3, 'b': 3})\n"
     ]
    }
   ],
   "source": [
    "from  collections import Counter\n",
    "print(Counter(d1)+Counter(d2))"
   ]
  },
  {
   "cell_type": "code",
   "execution_count": 54,
   "metadata": {},
   "outputs": [],
   "source": [
    "# write a program to print all unique values from a dictionary in a list"
   ]
  },
  {
   "cell_type": "code",
   "execution_count": 55,
   "metadata": {},
   "outputs": [],
   "source": [
    "data = [{\"V\":\"S001\"}, {\"V\": \"S002\"}, {\"VI\": \"S001\"}, {\"VI\": \"S005\"}, {\"VII\":\"S005\"}, {\n",
    "\"V\":\"S009\"},{\"VIII\":\"S007\"}]"
   ]
  },
  {
   "cell_type": "code",
   "execution_count": 56,
   "metadata": {},
   "outputs": [
    {
     "data": {
      "text/plain": [
       "[{'V': 'S001'},\n",
       " {'V': 'S002'},\n",
       " {'VI': 'S001'},\n",
       " {'VI': 'S005'},\n",
       " {'VII': 'S005'},\n",
       " {'V': 'S009'},\n",
       " {'VIII': 'S007'}]"
      ]
     },
     "execution_count": 56,
     "metadata": {},
     "output_type": "execute_result"
    }
   ],
   "source": [
    "data"
   ]
  },
  {
   "cell_type": "code",
   "execution_count": 57,
   "metadata": {},
   "outputs": [
    {
     "name": "stdout",
     "output_type": "stream",
     "text": [
      "{'V': 'S001'}\n",
      "{'V': 'S002'}\n",
      "{'VI': 'S001'}\n",
      "{'VI': 'S005'}\n",
      "{'VII': 'S005'}\n",
      "{'V': 'S009'}\n",
      "{'VIII': 'S007'}\n"
     ]
    }
   ],
   "source": [
    "for dic in data:\n",
    "    print(dic)"
   ]
  },
  {
   "cell_type": "code",
   "execution_count": 59,
   "metadata": {},
   "outputs": [
    {
     "name": "stdout",
     "output_type": "stream",
     "text": [
      "S007\n"
     ]
    }
   ],
   "source": [
    "for v in dic.values():\n",
    "    print(v)"
   ]
  },
  {
   "cell_type": "code",
   "execution_count": 60,
   "metadata": {},
   "outputs": [
    {
     "data": {
      "text/plain": [
       "{'S001', 'S002', 'S005', 'S007', 'S009'}"
      ]
     },
     "execution_count": 60,
     "metadata": {},
     "output_type": "execute_result"
    }
   ],
   "source": [
    "set(v for dict in data for v in dict.values())"
   ]
  },
  {
   "cell_type": "code",
   "execution_count": null,
   "metadata": {},
   "outputs": [],
   "source": []
  }
 ],
 "metadata": {
  "kernelspec": {
   "display_name": "Python 3",
   "language": "python",
   "name": "python3"
  },
  "language_info": {
   "codemirror_mode": {
    "name": "ipython",
    "version": 3
   },
   "file_extension": ".py",
   "mimetype": "text/x-python",
   "name": "python",
   "nbconvert_exporter": "python",
   "pygments_lexer": "ipython3",
   "version": "3.7.6"
  }
 },
 "nbformat": 4,
 "nbformat_minor": 4
}
